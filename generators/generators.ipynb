{
 "metadata": {
  "name": ""
 },
 "nbformat": 3,
 "nbformat_minor": 0,
 "worksheets": [
  {
   "cells": [
    {
     "cell_type": "code",
     "collapsed": false,
     "input": [
      "# Pretend we're in Python 3 ... as much as possible\n",
      "from __future__ import (\n",
      "    unicode_literals,\n",
      "    absolute_import,\n",
      "    print_function,\n",
      "    division,\n",
      "    )\n",
      "str = type('')\n",
      "try:\n",
      "    from itertools import izip as zip\n",
      "except ImportError:\n",
      "    pass\n",
      "\n",
      "import io\n",
      "import random\n",
      "import time\n",
      "import datetime as dt\n",
      "import operator as op\n",
      "import matplotlib.pyplot as plt\n",
      "import requests\n",
      "from collections import deque, defaultdict, namedtuple\n",
      "from itertools import count, islice, tee, chain\n",
      "from bs4 import BeautifulSoup\n",
      "\n",
      "%matplotlib inline"
     ],
     "language": "python",
     "metadata": {},
     "outputs": [],
     "prompt_number": 38
    },
    {
     "cell_type": "code",
     "collapsed": false,
     "input": [
      "def sample(iterable, num=10):\n",
      "    return [j for i, j in zip(range(num), iterable)]"
     ],
     "language": "python",
     "metadata": {},
     "outputs": [],
     "prompt_number": 39
    },
    {
     "cell_type": "code",
     "collapsed": false,
     "input": [
      "def squares():\n",
      "    for i in count(1):\n",
      "        yield i * i"
     ],
     "language": "python",
     "metadata": {},
     "outputs": [],
     "prompt_number": 40
    },
    {
     "cell_type": "code",
     "collapsed": false,
     "input": [
      "def powers():\n",
      "    for i in count(1):\n",
      "        yield i ** i"
     ],
     "language": "python",
     "metadata": {},
     "outputs": [],
     "prompt_number": 41
    },
    {
     "cell_type": "code",
     "collapsed": false,
     "input": [
      "def triangles():\n",
      "    i = 0\n",
      "    for inc in count(1):\n",
      "        i += inc\n",
      "        yield i"
     ],
     "language": "python",
     "metadata": {},
     "outputs": [],
     "prompt_number": 42
    },
    {
     "cell_type": "code",
     "collapsed": false,
     "input": [
      "def fib():\n",
      "    i = 0\n",
      "    j = 1\n",
      "    while True:\n",
      "        yield j\n",
      "        i += j\n",
      "        i, j = j, i"
     ],
     "language": "python",
     "metadata": {},
     "outputs": [],
     "prompt_number": 43
    },
    {
     "cell_type": "code",
     "collapsed": false,
     "input": [
      "def sliding_window(iterable, size=2):\n",
      "    d = deque(maxlen=size)\n",
      "    for i in iterable:\n",
      "        d.append(i)\n",
      "        if len(d) == size:\n",
      "            yield tuple(d)"
     ],
     "language": "python",
     "metadata": {},
     "outputs": [],
     "prompt_number": 44
    },
    {
     "cell_type": "code",
     "collapsed": false,
     "input": [
      "def moving_average(iterable, size):\n",
      "    for win in sliding_window(iterable, size):\n",
      "        yield sum(win) / size"
     ],
     "language": "python",
     "metadata": {},
     "outputs": [],
     "prompt_number": 45
    },
    {
     "cell_type": "code",
     "collapsed": false,
     "input": [
      "def derive(iterable, func=op.sub):\n",
      "    for win in sliding_window(iterable):\n",
      "        yield func(win[1], win[0])\n",
      "\n",
      "differences = lambda it: derive(it, op.sub)\n",
      "ratios = lambda it: derive(it, op.truediv)"
     ],
     "language": "python",
     "metadata": {},
     "outputs": [],
     "prompt_number": 46
    },
    {
     "cell_type": "code",
     "collapsed": false,
     "input": [
      "def converges(iterable):\n",
      "    deltas = (abs(d) for d in differences(iterable))\n",
      "    for win in sliding_window(deltas):\n",
      "        if win[1] > win[0]:\n",
      "            return False\n",
      "        if win[0] == win[1] == 0.0:\n",
      "            return True"
     ],
     "language": "python",
     "metadata": {},
     "outputs": [],
     "prompt_number": 47
    },
    {
     "cell_type": "code",
     "collapsed": false,
     "input": [
      "def converges_on(iterable):\n",
      "    it1, it2 = tee(iterable, 2)\n",
      "    deltas = (abs(d) for d in differences(it2))\n",
      "    for v, win in zip(it1, sliding_window(deltas)):\n",
      "        if win[1] > win[0]:\n",
      "            raise ValueError(\"Series does not converge\")\n",
      "        if win[0] == win[1] == 0.0:\n",
      "            return v"
     ],
     "language": "python",
     "metadata": {},
     "outputs": [],
     "prompt_number": 48
    },
    {
     "cell_type": "code",
     "collapsed": false,
     "input": [
      "sample(ratios(fib()))"
     ],
     "language": "python",
     "metadata": {},
     "outputs": [
      {
       "metadata": {},
       "output_type": "pyout",
       "prompt_number": 49,
       "text": [
        "[1.0,\n",
        " 2.0,\n",
        " 1.5,\n",
        " 1.6666666666666667,\n",
        " 1.6,\n",
        " 1.625,\n",
        " 1.6153846153846154,\n",
        " 1.619047619047619,\n",
        " 1.6176470588235294,\n",
        " 1.6181818181818182]"
       ]
      }
     ],
     "prompt_number": 49
    },
    {
     "cell_type": "code",
     "collapsed": false,
     "input": [
      "converges_on(ratios(fib()))"
     ],
     "language": "python",
     "metadata": {},
     "outputs": [
      {
       "metadata": {},
       "output_type": "pyout",
       "prompt_number": 50,
       "text": [
        "1.618033988749895"
       ]
      }
     ],
     "prompt_number": 50
    },
    {
     "cell_type": "code",
     "collapsed": false,
     "input": [
      "plt.plot(sample(ratios(fib()), 20))"
     ],
     "language": "python",
     "metadata": {},
     "outputs": [
      {
       "metadata": {},
       "output_type": "pyout",
       "prompt_number": 51,
       "text": [
        "[<matplotlib.lines.Line2D at 0x7fef7ce5ad10>]"
       ]
      },
      {
       "metadata": {},
       "output_type": "display_data",
       "png": "[encoded data removed]",
       "text": [
        "<matplotlib.figure.Figure at 0x7fef7cc33cd0>"
       ]
      }
     ],
     "prompt_number": 51
    },
    {
     "cell_type": "code",
     "collapsed": false,
     "input": [
      "Stock = namedtuple('Stock', ('price', 'change'))\n",
      "\n",
      "def market_states(url=\"http://mrkrabs.waveform.org.uk/presentations/generators/stocks/market.html\"):\n",
      "    last_date = None\n",
      "    while True:\n",
      "        doc = requests.get(url).content\n",
      "        #doc = io.open(url, 'rb').read()\n",
      "        soup = BeautifulSoup(doc, 'html5lib')\n",
      "        date = dt.datetime.strptime(\n",
      "            soup.find(id=\"market-date\").text,\n",
      "            'Current market date: %A, %B %d %Y')\n",
      "        if date != last_date:\n",
      "            state = {\n",
      "                symbol.text.strip(): Stock(float(price.text), float(change.text))\n",
      "                for table in soup.find_all('table')\n",
      "                for tbody in table.find_all('tbody')\n",
      "                for row in tbody.find_all('tr')\n",
      "                for symbol, name, price, change, volume in (row.find_all('td'),)\n",
      "                if change.text\n",
      "                }\n",
      "            yield date, state\n",
      "            last_date = date\n",
      "        time.sleep(1)"
     ],
     "language": "python",
     "metadata": {},
     "outputs": [],
     "prompt_number": 52
    },
    {
     "cell_type": "code",
     "collapsed": false,
     "input": [
      "def sell_symbols(window, portfolio, threshold=2.0):\n",
      "    return {\n",
      "        symbol\n",
      "        for symbol in portfolio\n",
      "        if window[-1][symbol].price > threshold * portfolio[symbol].bought_at\n",
      "        }"
     ],
     "language": "python",
     "metadata": {},
     "outputs": [],
     "prompt_number": 53
    },
    {
     "cell_type": "code",
     "collapsed": false,
     "input": [
      "def buy_symbols(window, portfolio, threshold=0.05):\n",
      "    return {\n",
      "        symbol\n",
      "        for symbol in window[-1].viewkeys() - portfolio.viewkeys()\n",
      "        if symbol in window[0]\n",
      "        for old_price in (window[0][symbol].price,)\n",
      "        for new_price in (window[-1][symbol].price,)\n",
      "        for delta in (new_price - old_price,)\n",
      "        if delta > threshold * new_price\n",
      "        }"
     ],
     "language": "python",
     "metadata": {},
     "outputs": [],
     "prompt_number": 54
    },
    {
     "cell_type": "code",
     "collapsed": false,
     "input": [
      "PortfolioStock = namedtuple('PortfolioStock', ('count', 'bought_at'))\n",
      "\n",
      "def decisions(states, balance, portfolio={}):\n",
      "    for window in sliding_window(states, 5):\n",
      "        date, window = window[-1][0], tuple(s[1] for s in window)\n",
      "        for symbol in sell_symbols(window, portfolio):\n",
      "            price = window[-1][symbol].price\n",
      "            count = portfolio[symbol].count\n",
      "            balance += price * count\n",
      "            del portfolio[symbol]\n",
      "            yield date, 'SELL', symbol, count, price\n",
      "        for symbol in buy_symbols(window, portfolio):\n",
      "            price = window[-1][symbol].price\n",
      "            count = int(balance // price)\n",
      "            if count > 0:\n",
      "                portfolio[symbol] = PortfolioStock(count, price)\n",
      "                balance -= count * price\n",
      "                yield date, 'BUY', symbol, count, price"
     ],
     "language": "python",
     "metadata": {},
     "outputs": [],
     "prompt_number": 55
    },
    {
     "cell_type": "code",
     "collapsed": false,
     "input": [
      "plt.plot([state['SDR.L'].price for date, state in sample(market_states())])"
     ],
     "language": "python",
     "metadata": {},
     "outputs": [
      {
       "ename": "KeyboardInterrupt",
       "evalue": "",
       "output_type": "pyerr",
       "traceback": [
        "\u001b[0;31m---------------------------------------------------------------------------\u001b[0m\n\u001b[0;31mKeyboardInterrupt\u001b[0m                         Traceback (most recent call last)",
        "\u001b[0;32m<ipython-input-56-c9af6c048db2>\u001b[0m in \u001b[0;36m<module>\u001b[0;34m()\u001b[0m\n\u001b[0;32m----> 1\u001b[0;31m \u001b[0mplt\u001b[0m\u001b[0;34m.\u001b[0m\u001b[0mplot\u001b[0m\u001b[0;34m(\u001b[0m\u001b[0;34m[\u001b[0m\u001b[0mstate\u001b[0m\u001b[0;34m[\u001b[0m\u001b[0;34m'SDR.L'\u001b[0m\u001b[0;34m]\u001b[0m\u001b[0;34m.\u001b[0m\u001b[0mprice\u001b[0m \u001b[0;32mfor\u001b[0m \u001b[0mdate\u001b[0m\u001b[0;34m,\u001b[0m \u001b[0mstate\u001b[0m \u001b[0;32min\u001b[0m \u001b[0msample\u001b[0m\u001b[0;34m(\u001b[0m\u001b[0mmarket_states\u001b[0m\u001b[0;34m(\u001b[0m\u001b[0;34m)\u001b[0m\u001b[0;34m)\u001b[0m\u001b[0;34m]\u001b[0m\u001b[0;34m)\u001b[0m\u001b[0;34m\u001b[0m\u001b[0m\n\u001b[0m",
        "\u001b[0;32m<ipython-input-39-07993a03add7>\u001b[0m in \u001b[0;36msample\u001b[0;34m(iterable, num)\u001b[0m\n\u001b[1;32m      1\u001b[0m \u001b[0;32mdef\u001b[0m \u001b[0msample\u001b[0m\u001b[0;34m(\u001b[0m\u001b[0miterable\u001b[0m\u001b[0;34m,\u001b[0m \u001b[0mnum\u001b[0m\u001b[0;34m=\u001b[0m\u001b[0;36m10\u001b[0m\u001b[0;34m)\u001b[0m\u001b[0;34m:\u001b[0m\u001b[0;34m\u001b[0m\u001b[0m\n\u001b[0;32m----> 2\u001b[0;31m     \u001b[0;32mreturn\u001b[0m \u001b[0;34m[\u001b[0m\u001b[0mj\u001b[0m \u001b[0;32mfor\u001b[0m \u001b[0mi\u001b[0m\u001b[0;34m,\u001b[0m \u001b[0mj\u001b[0m \u001b[0;32min\u001b[0m \u001b[0mzip\u001b[0m\u001b[0;34m(\u001b[0m\u001b[0mrange\u001b[0m\u001b[0;34m(\u001b[0m\u001b[0mnum\u001b[0m\u001b[0;34m)\u001b[0m\u001b[0;34m,\u001b[0m \u001b[0miterable\u001b[0m\u001b[0;34m)\u001b[0m\u001b[0;34m]\u001b[0m\u001b[0;34m\u001b[0m\u001b[0m\n\u001b[0m",
        "\u001b[0;32m<ipython-input-52-48e5f0b49fc7>\u001b[0m in \u001b[0;36mmarket_states\u001b[0;34m(url)\u001b[0m\n\u001b[1;32m     21\u001b[0m             \u001b[0;32myield\u001b[0m \u001b[0mdate\u001b[0m\u001b[0;34m,\u001b[0m \u001b[0mstate\u001b[0m\u001b[0;34m\u001b[0m\u001b[0m\n\u001b[1;32m     22\u001b[0m             \u001b[0mlast_date\u001b[0m \u001b[0;34m=\u001b[0m \u001b[0mdate\u001b[0m\u001b[0;34m\u001b[0m\u001b[0m\n\u001b[0;32m---> 23\u001b[0;31m         \u001b[0mtime\u001b[0m\u001b[0;34m.\u001b[0m\u001b[0msleep\u001b[0m\u001b[0;34m(\u001b[0m\u001b[0;36m1\u001b[0m\u001b[0;34m)\u001b[0m\u001b[0;34m\u001b[0m\u001b[0m\n\u001b[0m",
        "\u001b[0;31mKeyboardInterrupt\u001b[0m: "
       ]
      }
     ],
     "prompt_number": 56
    },
    {
     "cell_type": "code",
     "collapsed": false,
     "input": [],
     "language": "python",
     "metadata": {},
     "outputs": []
    }
   ],
   "metadata": {}
  }
 ]
}