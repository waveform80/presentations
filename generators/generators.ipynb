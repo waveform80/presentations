{
 "metadata": {
  "name": ""
 },
 "nbformat": 3,
 "nbformat_minor": 0,
 "worksheets": [
  {
   "cells": [
    {
     "cell_type": "code",
     "collapsed": false,
     "input": [
      "# Pretend we're in Python 3 ... as much as possible\n",
      "from __future__ import (\n",
      "    unicode_literals,\n",
      "    absolute_import,\n",
      "    print_function,\n",
      "    division,\n",
      "    )\n",
      "str = type('')\n",
      "try:\n",
      "    from itertools import izip as zip\n",
      "except ImportError:\n",
      "    pass\n",
      "\n",
      "import io\n",
      "import random\n",
      "import time\n",
      "import datetime as dt\n",
      "import operator as op\n",
      "import matplotlib.pyplot as plt\n",
      "import requests\n",
      "from collections import deque, defaultdict, namedtuple\n",
      "from itertools import count, islice, tee, chain\n",
      "from bs4 import BeautifulSoup\n",
      "\n",
      "%matplotlib inline"
     ],
     "language": "python",
     "metadata": {},
     "outputs": [],
     "prompt_number": 174
    },
    {
     "cell_type": "code",
     "collapsed": false,
     "input": [
      "def sample(iterable, num=10):\n",
      "    return [j for i, j in zip(range(num), iterable)]"
     ],
     "language": "python",
     "metadata": {},
     "outputs": [],
     "prompt_number": 175
    },
    {
     "cell_type": "code",
     "collapsed": false,
     "input": [
      "def squares():\n",
      "    for i in count(1):\n",
      "        yield i * i"
     ],
     "language": "python",
     "metadata": {},
     "outputs": [],
     "prompt_number": 176
    },
    {
     "cell_type": "code",
     "collapsed": false,
     "input": [
      "def powers():\n",
      "    for i in count(1):\n",
      "        yield i ** i"
     ],
     "language": "python",
     "metadata": {},
     "outputs": [],
     "prompt_number": 177
    },
    {
     "cell_type": "code",
     "collapsed": false,
     "input": [
      "def triangles():\n",
      "    i = 0\n",
      "    for inc in count(1):\n",
      "        i += inc\n",
      "        yield i"
     ],
     "language": "python",
     "metadata": {},
     "outputs": [],
     "prompt_number": 178
    },
    {
     "cell_type": "code",
     "collapsed": false,
     "input": [
      "def fib():\n",
      "    d = deque(maxlen=2)\n",
      "    d.append(1)\n",
      "    while True:\n",
      "        yield d[-1]\n",
      "        d.append(sum(d))"
     ],
     "language": "python",
     "metadata": {},
     "outputs": [],
     "prompt_number": 179
    },
    {
     "cell_type": "code",
     "collapsed": false,
     "input": [
      "def sliding_window(iterable, size=2):\n",
      "    d = deque(maxlen=size)\n",
      "    for i in iterable:\n",
      "        d.append(i)\n",
      "        if len(d) == size:\n",
      "            yield tuple(d)"
     ],
     "language": "python",
     "metadata": {},
     "outputs": [],
     "prompt_number": 180
    },
    {
     "cell_type": "code",
     "collapsed": false,
     "input": [
      "def moving_average(iterable, size):\n",
      "    for win in sliding_window(iterable, size):\n",
      "        yield sum(win) / size"
     ],
     "language": "python",
     "metadata": {},
     "outputs": [],
     "prompt_number": 181
    },
    {
     "cell_type": "code",
     "collapsed": false,
     "input": [
      "def derive(iterable, func=op.sub):\n",
      "    for win in sliding_window(iterable):\n",
      "        yield func(win[1], win[0])\n",
      "\n",
      "differences = lambda it: derive(it, op.sub)\n",
      "ratios = lambda it: derive(it, op.truediv)"
     ],
     "language": "python",
     "metadata": {},
     "outputs": [],
     "prompt_number": 182
    },
    {
     "cell_type": "code",
     "collapsed": false,
     "input": [
      "def converges(iterable):\n",
      "    deltas = (abs(d) for d in differences(iterable))\n",
      "    for win in sliding_window(deltas):\n",
      "        if win[1] > win[0]:\n",
      "            return False\n",
      "        if win[0] == win[1] == 0.0:\n",
      "            return True"
     ],
     "language": "python",
     "metadata": {},
     "outputs": [],
     "prompt_number": 183
    },
    {
     "cell_type": "code",
     "collapsed": false,
     "input": [
      "def converges_on(iterable):\n",
      "    it1, it2 = tee(iterable, 2)\n",
      "    deltas = (abs(d) for d in differences(it2))\n",
      "    for v, win in zip(it1, sliding_window(deltas)):\n",
      "        if win[1] > win[0]:\n",
      "            raise ValueError(\"Series does not converge\")\n",
      "        if win[0] == win[1] == 0.0:\n",
      "            return v"
     ],
     "language": "python",
     "metadata": {},
     "outputs": [],
     "prompt_number": 184
    },
    {
     "cell_type": "code",
     "collapsed": false,
     "input": [
      "converges_on(ratios(fib()))"
     ],
     "language": "python",
     "metadata": {},
     "outputs": [
      {
       "metadata": {},
       "output_type": "pyout",
       "prompt_number": 185,
       "text": [
        "1.618033988749895"
       ]
      }
     ],
     "prompt_number": 185
    },
    {
     "cell_type": "code",
     "collapsed": false,
     "input": [
      "plt.plot(sample(ratios(fib()), 20))"
     ],
     "language": "python",
     "metadata": {},
     "outputs": [
      {
       "metadata": {},
       "output_type": "pyout",
       "prompt_number": 186,
       "text": [
        "[<matplotlib.lines.Line2D at 0x7effab75bf10>]"
       ]
      },
      {
       "metadata": {},
       "output_type": "display_data",
       "png": "[encoded data removed]",
       "text": [
        "<matplotlib.figure.Figure at 0x7effab9956d0>"
       ]
      }
     ],
     "prompt_number": 186
    },
    {
     "cell_type": "code",
     "collapsed": false,
     "input": [
      "Stock = namedtuple('Stock', ('price', 'change'))\n",
      "\n",
      "def market_states(url=\"/home/dave/foo/stock_data/market.html\"):\n",
      "    last_date = None\n",
      "    while True:\n",
      "        #doc = requests.get(url).content\n",
      "        doc = io.open(url, 'rb').read()\n",
      "        soup = BeautifulSoup(doc, 'html5lib')\n",
      "        date = dt.datetime.strptime(\n",
      "            soup.find(id=\"market-date\").text,\n",
      "            'Current market date: %A, %B %d %Y')\n",
      "        if date != last_date:\n",
      "            state = {\n",
      "                symbol.text.strip(): Stock(float(price.text), float(change.text))\n",
      "                for table in soup.find_all('table')\n",
      "                for tbody in table.find_all('tbody')\n",
      "                for row in tbody.find_all('tr')\n",
      "                for symbol, name, price, change, volume in (row.find_all('td'),)\n",
      "                if change.text\n",
      "                }\n",
      "            yield date, state\n",
      "            last_date = date\n",
      "        time.sleep(1)"
     ],
     "language": "python",
     "metadata": {},
     "outputs": [],
     "prompt_number": 195
    },
    {
     "cell_type": "code",
     "collapsed": false,
     "input": [
      "def sell_symbols(window, portfolio, threshold=2.0):\n",
      "    return {\n",
      "        symbol\n",
      "        for symbol in portfolio\n",
      "        if window[-1][symbol].price > threshold * portfolio[symbol].bought_at\n",
      "        }"
     ],
     "language": "python",
     "metadata": {},
     "outputs": [],
     "prompt_number": 196
    },
    {
     "cell_type": "code",
     "collapsed": false,
     "input": [
      "def buy_symbols(window, portfolio, threshold=0.05):\n",
      "    return {\n",
      "        symbol\n",
      "        for symbol in window[-1].viewkeys() - portfolio.viewkeys()\n",
      "        if symbol in window[0]\n",
      "        for old_price in (window[0][symbol].price,)\n",
      "        for new_price in (window[-1][symbol].price,)\n",
      "        for delta in (new_price - old_price,)\n",
      "        if delta > threshold * new_price\n",
      "        }"
     ],
     "language": "python",
     "metadata": {},
     "outputs": [],
     "prompt_number": 197
    },
    {
     "cell_type": "code",
     "collapsed": false,
     "input": [
      "PortfolioStock = namedtuple('PortfolioStock', ('count', 'bought_at'))\n",
      "\n",
      "def decisions(states, balance, portfolio={}):\n",
      "    for window in sliding_window(states, 5):\n",
      "        date, window = window[-1][0], tuple(s[1] for s in window)\n",
      "        for symbol in sell_symbols(window, portfolio):\n",
      "            price = window[-1][symbol].price\n",
      "            count = portfolio[symbol].count\n",
      "            balance += price * count\n",
      "            del portfolio[symbol]\n",
      "            yield date, 'SELL', symbol, count, price\n",
      "        for symbol in buy_symbols(window, portfolio):\n",
      "            price = window[-1][symbol].price\n",
      "            count = int(balance // price)\n",
      "            if count > 0:\n",
      "                portfolio[symbol] = PortfolioStock(count, price)\n",
      "                balance -= count * price\n",
      "                yield date, 'BUY', symbol, count, price"
     ],
     "language": "python",
     "metadata": {},
     "outputs": [],
     "prompt_number": 198
    },
    {
     "cell_type": "code",
     "collapsed": false,
     "input": [
      "plt.plot([state['SDR.L'].price for date, state in sample(market_states())])"
     ],
     "language": "python",
     "metadata": {},
     "outputs": [
      {
       "metadata": {},
       "output_type": "pyout",
       "prompt_number": 208,
       "text": [
        "[<matplotlib.lines.Line2D at 0x7effaafc1b50>]"
       ]
      },
      {
       "metadata": {},
       "output_type": "display_data",
       "png": "[encoded data removed]",
       "text": [
        "<matplotlib.figure.Figure at 0x7effaabb1110>"
       ]
      }
     ],
     "prompt_number": 208
    },
    {
     "cell_type": "code",
     "collapsed": false,
     "input": [],
     "language": "python",
     "metadata": {},
     "outputs": []
    }
   ],
   "metadata": {}
  }
 ]
}