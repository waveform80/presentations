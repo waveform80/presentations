{
 "metadata": {
  "name": ""
 },
 "nbformat": 3,
 "nbformat_minor": 0,
 "worksheets": [
  {
   "cells": [
    {
     "cell_type": "code",
     "collapsed": false,
     "input": [
      "try:\n",
      "    from xmlrpc import client\n",
      "except ImportError:\n",
      "    import xmlrpclib as client\n",
      "import matplotlib.pyplot as plt\n",
      "\n",
      "%matplotlib inline"
     ],
     "language": "python",
     "metadata": {},
     "outputs": [],
     "prompt_number": 6
    },
    {
     "cell_type": "code",
     "collapsed": false,
     "input": [
      "PY2_CLASSIFIERS = [\n",
      "    \"Programming Language :: Python :: 2\",\n",
      "    \"Programming Language :: Python :: 2.7\",\n",
      "    \"Programming Language :: Python :: 2.6\",\n",
      "    \"Programming Language :: Python :: 2.5\",\n",
      "    \"Programming Language :: Python :: 2.4\",\n",
      "    \"Programming Language :: Python :: 2.3\",\n",
      "    ]\n",
      "PY3_CLASSIFIERS = [\n",
      "    \"Programming Language :: Python :: 3\",\n",
      "    \"Programming Language :: Python :: 3.0\",\n",
      "    \"Programming Language :: Python :: 3.1\",\n",
      "    \"Programming Language :: Python :: 3.2\",\n",
      "    \"Programming Language :: Python :: 3.3\",\n",
      "    \"Programming Language :: Python :: 3.4\",\n",
      "    \"Programming Language :: Python :: 3.5\",\n",
      "    ]"
     ],
     "language": "python",
     "metadata": {},
     "outputs": [],
     "prompt_number": 7
    },
    {
     "cell_type": "code",
     "collapsed": false,
     "input": [
      "pypi_client = client.ServerProxy('http://pypi.python.org/pypi')\n",
      "\n",
      "# name[0] is package name\n",
      "# name[1] is package version\n",
      "py2_packages = {\n",
      "    name[0]\n",
      "    for classifier in PY2_CLASSIFIERS\n",
      "    for name in pypi_client.browse([classifier])\n",
      "    }\n",
      "py3_packages = {\n",
      "    name[0]\n",
      "    for classifier in PY3_CLASSIFIERS\n",
      "    for name in pypi_client.browse([classifier])\n",
      "    }"
     ],
     "language": "python",
     "metadata": {},
     "outputs": [],
     "prompt_number": 8
    },
    {
     "cell_type": "code",
     "collapsed": false,
     "input": [
      "labels = ['Py 2 only', 'Py 3 only', 'Py2 and 3']\n",
      "total = len(py2_packages | py3_packages)\n",
      "py2only = len(py2_packages - py3_packages)\n",
      "py3only = len(py3_packages - py2_packages)\n",
      "both = len(py2_packages & py3_packages)\n",
      "\n",
      "plt.pie([py2only, py3only, both], autopct='%1.1f%%',\n",
      "        labels=labels, shadow=True, startangle=90)"
     ],
     "language": "python",
     "metadata": {},
     "outputs": [
      {
       "metadata": {},
       "output_type": "pyout",
       "prompt_number": 9,
       "text": [
        "([<matplotlib.patches.Wedge at 0x7f16aa391810>,\n",
        "  <matplotlib.patches.Wedge at 0x7f16aa3a3b90>,\n",
        "  <matplotlib.patches.Wedge at 0x7f16aa3b0e90>],\n",
        " [<matplotlib.text.Text at 0x7f16aa3a3250>,\n",
        "  <matplotlib.text.Text at 0x7f16aa3b05d0>,\n",
        "  <matplotlib.text.Text at 0x7f16aa3bb8d0>],\n",
        " [<matplotlib.text.Text at 0x7f16aa3a3750>,\n",
        "  <matplotlib.text.Text at 0x7f16aa3b0a50>,\n",
        "  <matplotlib.text.Text at 0x7f16aa3bbd50>])"
       ]
      },
      {
       "metadata": {},
       "output_type": "display_data",
       "png": "[encoded data removed]",
       "text": [
        "<matplotlib.figure.Figure at 0x7f16b00e7590>"
       ]
      }
     ],
     "prompt_number": 9
    },
    {
     "cell_type": "code",
     "collapsed": false,
     "input": [],
     "language": "python",
     "metadata": {},
     "outputs": [],
     "prompt_number": 9
    }
   ],
   "metadata": {}
  }
 ]
}